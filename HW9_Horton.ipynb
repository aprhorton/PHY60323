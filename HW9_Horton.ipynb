{
 "cells": [
  {
   "cell_type": "code",
   "execution_count": 21,
   "id": "026611a7",
   "metadata": {},
   "outputs": [
    {
     "name": "stdout",
     "output_type": "stream",
     "text": [
      "Probability of winning prize if you keep your door: 32.2%\n",
      "Probability of winning prize if you switch your door choice: 68.0%\n"
     ]
    }
   ],
   "source": [
    "# problem 1: Let's make a deal\n",
    "import random\n",
    "from numpy import arange\n",
    "from pylab import plot,xlabel,ylabel,show, legend, title\n",
    "count = 0\n",
    "total_times = 0\n",
    "for i in range(0,1000):\n",
    "    doors = [1,2,3]\n",
    "#first assign the prize to a door\n",
    "    prize_assign = random.randint(1,3)\n",
    "#the contestant picks the door they want\n",
    "    contestant_pick = random.randint(1,3)\n",
    "#remove the wrong door\n",
    "    doors_left = []\n",
    "    if prize_assign == contestant_pick: #if the prize is behind the contestant's door, open either two doors\n",
    "        doors.remove(prize_assign) #removes the door with the prize from the doors list, but since the contestant picked\n",
    "        #the door with the prize, the contestant's door choice is also removed. Now there are two doors left to choose from\n",
    "        #and both these doors have nothing behind them. \n",
    "        a = doors[0]\n",
    "        b = doors[1]\n",
    "        \n",
    "        random_door_to_remove = random.randint(a,b) #pick a random door in the range of the two doors left\n",
    "        while random_door_to_remove not in doors: #if the random pick is not in the range, let's say the contestant picked\n",
    "            #door 2 and the prize is behind door 2, the contestant is left with doors 1 and 3. The random.randint(1,3) says to \n",
    "            #pick a random value between 1 and 3. It could be 2 to remove but 2 was already selected by the contestant. Therefore,\n",
    "            #while the random integer is not in the doors list, keep choosing a new random integer until it is in the list\n",
    "            random_door_to_remove = random.randint(a,b)   \n",
    "\n",
    "        remove_doors = doors.remove(random_door_to_remove) #remove that randomly selected door so all that is left is the door\n",
    "        #the constestant picked (which has the prize) and the one door with nothing.\n",
    "        doors_left.append(contestant_pick)\n",
    "        doors_left.append(doors[0])\n",
    "    #doors left holds the doors to choose from\n",
    "    else: #prize is not behind contestant's door, so the only option is to remove the door the contestant did not pick \n",
    "        #and the door without the prize\n",
    "        doors_left.append(contestant_pick)\n",
    "        doors_left.append(prize_assign)\n",
    "        doors_left.sort() #just to get everything in numerical order for switching code later on\n",
    "    #keep the door for half the time\n",
    "    if i <= 499:\n",
    "        if contestant_pick == prize_assign:\n",
    "            count +=1\n",
    "        \n",
    "#switch the door the contestant choose, doors_left has the two doors left, go ahead and remove the contestant's pick from list\n",
    "\n",
    "    else:    \n",
    "        doors_left.remove(contestant_pick)\n",
    "        new_door = doors_left[0]\n",
    "        if new_door == prize_assign:\n",
    "            total_times +=1\n",
    "        \n",
    "switch_probability = (total_times/500)*100\n",
    "keep_probability = (count/500)*100\n",
    "print(\"Probability of winning prize if you keep your door:\"+\" \"+str(round(keep_probability,2))+\"%\")\n",
    "print(\"Probability of winning prize if you switch your door choice:\"+\" \"+ str(round(switch_probability,2))+\"%\")\n"
   ]
  },
  {
   "cell_type": "code",
   "execution_count": 22,
   "id": "8e7704a1",
   "metadata": {},
   "outputs": [
    {
     "name": "stdout",
     "output_type": "stream",
     "text": [
      "0 10000\n"
     ]
    }
   ],
   "source": [
    "from random import random\n",
    "#PART A: 209 Pb\n",
    "# Constants\n",
    "NPb = 10000            # Initial Number of lead atoms\n",
    "NBi_209 = 0               # Number of bismuth-209\n",
    "tau = 3.3*60        # Half life of lead in seconds\n",
    "h = 1.0               # Size of time-step in seconds\n",
    "p = 1 - 2**(-h/tau)   # Probability of decay in one step\n",
    "tmax = 20000           # Total time in seconds\n",
    "\n",
    "# Lists of plot points\n",
    "tpoints = arange(0.0,tmax,h) # make time array\n",
    "Pbpoints = [] # empty array to store # of Pb atoms at each time step\n",
    "Bi_209points = [] # empty array to store # of Bi-209 atoms at each time step\n",
    "\n",
    "# Main loop\n",
    "for t in tpoints:    # for time 0-20000 sec\n",
    "    Pbpoints.append(NPb) # append starting # of Tl atoms, current value of atoms\n",
    "    Bi_209points.append(NBi_209) # append starting # of Pb atoms\n",
    "\n",
    "    # Calculate the number of atoms that decay\n",
    "    decay = 0 #by default nothing decays\n",
    "    for i in range(NPb): # determine number of atoms that decay \n",
    "        if random() < p: #p is probability between 0 and 1\n",
    "            decay += 1 #decays if less than probability\n",
    "    NPb -= decay # subtract number of decayed Parent atoms \n",
    "    NBi_209 += decay # add number of decayed Daughter atoms \n",
    "print(NPb, NBi_209)"
   ]
  },
  {
   "cell_type": "code",
   "execution_count": 22,
   "id": "4aaaf331",
   "metadata": {},
   "outputs": [
    {
     "name": "stdout",
     "output_type": "stream",
     "text": [
      "0 10000\n"
     ]
    }
   ],
   "source": [
    "#PART B: 209 Tl\n",
    "NTh = 209            # Initial Number of Thallium atoms, at most because 2.09% goes decays this way\n",
    "NPb = 9791               # Number of lead# at max because 97.91% decays this way\n",
    "tau = 2.2*60        # Half life of lead in seconds\n",
    "h = 1.0               # Size of time-step in seconds\n",
    "p = 1 - 2**(-h/tau)   # Probability of decay in one step\n",
    "tmax = 20000           # Total time in seconds\n",
    "\n",
    "# Lists of plot points\n",
    "tpoints = arange(0.0,tmax,h) # make time array\n",
    "Thpoints = [] # empty array to store # of Th atoms at each time step\n",
    "Pbpoints = [] # empty array to store # of Pb atoms at each time step\n",
    "\n",
    "# Main loop\n",
    "for t in tpoints:    # for time 0-20000 sec\n",
    "    Thpoints.append(NTh) # append starting # of Tl atoms, current value of atoms\n",
    "    Pbpoints.append(NPb) # append starting # of Pb atoms\n",
    "\n",
    "    # Calculate the number of atoms that decay\n",
    "    decay = 0 #by default nothing decays\n",
    "    for i in range(NTh): # determine number of atoms that decay \n",
    "        if random() < p: #p is probability between 0 and 1\n",
    "            decay += 1 #decays if less than probability\n",
    "    NTh -= decay # subtract number of decayed Parent atoms \n",
    "    NPb += decay # add number of decayed Daughter atoms \n",
    "print(NTh, NPb)"
   ]
  },
  {
   "cell_type": "code",
   "execution_count": 55,
   "id": "5871ebb0",
   "metadata": {},
   "outputs": [
    {
     "name": "stdout",
     "output_type": "stream",
     "text": [
      "60 200 9740\n"
     ]
    }
   ],
   "source": [
    "#PART C: 213 Bi\n",
    "NBi = 10000             # Initial Number of Bismuth 213 atoms\n",
    "NPb = 0               # Number of lead\n",
    "NTh = 0               # Number of Thallium\n",
    "\n",
    "tau = 46*60        # Half life of Bismuth in seconds\n",
    "h = 1.0               # Size of time-step in seconds\n",
    "p = 1 - 2**(-h/tau)   # Probability of decay in one step\n",
    "p_Pb = 97.91/100  # Probability that the atoms decay to lead\n",
    "p_Th = 2.09/100  # Probability that the atoms decay to thallium\n",
    "tmax = 20000           # Total time\n",
    "\n",
    "# Lists of plot points\n",
    "tpoints = arange(0.0,tmax,h) # make time array\n",
    "Bipoints = [] # empty array to store # of Bi atoms at each time step\n",
    "Pbpoints = [] # empty array to store # of Pb atoms at each time step\n",
    "Thpoints = [] # empty array to store # of Th atoms at each time step\n",
    "# Main loop\n",
    "for t in tpoints:    # for time 0-20000 sec\n",
    "    Bipoints.append(NBi) # append starting # of Bi atoms, current value of atoms\n",
    "    Pbpoints.append(NPb) # append starting # of Pb atoms\n",
    "    Thpoints.append(NTh) # append starting # of Th atoms\n",
    "    # Calculate the number of atoms that decay\n",
    "    decay_Pb = 0 #by default nothing decays to lead\n",
    "    decay_Th = 0 #nothing decays to thallium\n",
    "    for i in range(NBi):# determine the number of atoms that decay\n",
    "        if random() < p: #it decays\n",
    "            if random() < p_Th:\n",
    "                decay_Th +=1\n",
    "            else:\n",
    "                decay_Pb +=1\n",
    "\n",
    "            \n",
    "    #need to subtract the decayed lead and thallium atoms\n",
    "    NBi -= decay_Pb\n",
    "    NBi -= decay_Th\n",
    "    \n",
    "    NTh += decay_Th \n",
    "    NPb += decay_Pb # add number of decayed Daughter atoms \n",
    "print(NBi, NTh, NPb)"
   ]
  },
  {
   "cell_type": "code",
   "execution_count": 56,
   "id": "ec57f44d",
   "metadata": {},
   "outputs": [
    {
     "name": "stdout",
     "output_type": "stream",
     "text": [
      "72 1 0 9927 10000\n"
     ]
    }
   ],
   "source": [
    "#combine the three parts together into one decay process, working from bottom up\n",
    "NBi = 10000             # Initial Number of Bismuth atoms, 213 isotope\n",
    "NPb = 0               # Number of lead\n",
    "NTh = 0               # Number of Thallium\n",
    "NBi_209 = 0\n",
    "\n",
    "tau = 46*60        # Half life of Bismuth in seconds\n",
    "tau_2 = 2.2*60     # half life of thallium\n",
    "tau_3 = 3.3*60     #half life of lead\n",
    "\n",
    "h = 1.0               # Size of time-step in seconds\n",
    "p = 1 - 2**(-h/tau)   # Probability of decay in one step\n",
    "p_Pb = 97.91/100  # Probability that the atoms decay to lead\n",
    "p_Th = 2.09/100   # Probability that the atoms decay to thallium\n",
    "p_th_Pb = 1-2**(-h/tau_2) #probability that thallium atoms decay to lead\n",
    "p_Bi_209 = 1 - 2**(-h/tau_3) #probability that lead decay to Bi-209\n",
    "tmax = 20000           # Total time\n",
    "\n",
    "# Lists of plot points\n",
    "tpoints = arange(0.0,tmax,h) # make time array\n",
    "\n",
    "Bipoints = [] # empty array to store # of Bi atoms at each time step\n",
    "Pbpoints = [] # empty array to store # of Pb atoms at each time step\n",
    "Thpoints = [] # empty array to store # of Th atoms at each time step\n",
    "Bi_209_points = [] #array to store # of Bi_209 atoms\n",
    "# Main loop\n",
    "for t in tpoints:  \n",
    "    Bipoints.append(NBi) \n",
    "    Pbpoints.append(NPb) \n",
    "    Thpoints.append(NTh) \n",
    "    Bi_209_points.append(NBi_209)\n",
    "\n",
    "    decay_Pb = 0 \n",
    "    decay_Th = 0\n",
    "    decay_Bi_209 = 0\n",
    "    \n",
    "    for i in range(NBi):  \n",
    "        if random() < p: #it decays\n",
    "            if random() < p_Th:\n",
    "                decay_Th +=1\n",
    "            else:\n",
    "                decay_Pb +=1\n",
    "\n",
    "  \n",
    "    NBi -= decay_Pb\n",
    "    NBi -= decay_Th\n",
    "    \n",
    "    NTh += decay_Th \n",
    "    NPb += decay_Pb  \n",
    "\n",
    "    decay_Th = 0 #has to be zero again because we are essentially starting from the beginning for thallium\n",
    "    #we are starting from zero because we don't know how many atoms will decay \n",
    "    #from thallium to lead\n",
    "    for i in range(NTh): \n",
    "        if random() < p_th_Pb: \n",
    "            decay_Th += 1 \n",
    "    NTh -= decay_Th \n",
    "    NPb += decay_Th  \n",
    "\n",
    "    \n",
    "    for i in range(NPb): \n",
    "        if random() < p_Bi_209: \n",
    "            decay_Bi_209 += 1 \n",
    "    NPb -= decay_Bi_209 \n",
    "    NBi_209 += decay_Bi_209 \n",
    "print(NBi, NPb, NTh, NBi_209, NBi+NPb+NTh+NBi_209)\n"
   ]
  },
  {
   "cell_type": "code",
   "execution_count": 60,
   "id": "b4818f65",
   "metadata": {},
   "outputs": [
    {
     "data": {
      "image/png": "[encoded data removed]",
      "text/plain": [
       "<Figure size 640x480 with 1 Axes>"
      ]
     },
     "metadata": {},
     "output_type": "display_data"
    }
   ],
   "source": [
    "#make the plot\n",
    "\n",
    "plot(tpoints,Thpoints, c='darkviolet', label = \"Thallium\") # plot Tl vs. time\n",
    "plot(tpoints,Pbpoints, c='dimgray', label = \"Lead\") # plot Pb vs. time\n",
    "plot(tpoints,Bipoints, c='brown', label = \"Bismuth-213\") # plot Bi_213 vs. time\n",
    "plot(tpoints,Bi_209_points, c='lime', label = \"Bismuth-209\") # plot Bi_209 vs. time\n",
    "\n",
    "xlabel(\"Time (s)\")\n",
    "ylabel(\"Number of atoms\")\n",
    "legend()\n",
    "title (\"Radioactive Decay\")\n",
    "show()\n"
   ]
  },
  {
   "cell_type": "code",
   "execution_count": null,
   "id": "aa26e904",
   "metadata": {},
   "outputs": [],
   "source": []
  },
  {
   "cell_type": "code",
   "execution_count": null,
   "id": "8994c42b",
   "metadata": {},
   "outputs": [],
   "source": []
  }
 ],
 "metadata": {
  "kernelspec": {
   "display_name": "Python 3",
   "language": "python",
   "name": "python3"
  },
  "language_info": {
   "codemirror_mode": {
    "name": "ipython",
    "version": 3
   },
   "file_extension": ".py",
   "mimetype": "text/x-python",
   "name": "python",
   "nbconvert_exporter": "python",
   "pygments_lexer": "ipython3",
   "version": "3.7.11"
  }
 },
 "nbformat": 4,
 "nbformat_minor": 5
}
