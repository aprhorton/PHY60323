{
 "cells": [
  {
   "cell_type": "markdown",
   "metadata": {},
   "source": [
    "# Homework 4 - Due Friday Sept 11, 5pm"
   ]
  },
  {
   "cell_type": "markdown",
   "metadata": {},
   "source": [
    "*The semi-empirical mass formula*\n",
    "\n",
    "In nuclear physics, the semi-empirical mass formula is a formula for calculating the\n",
    "approximate nuclear binding energy $B$ of an atomic nucleus with atomic number $Z$\n",
    "and mass number $A$. The formula looks like this:\n",
    "    \n",
    "$$ B = a_1 A - a_2 A^{2/3} - a_3 \\frac{Z^2}{A^{1/3}} - a_4 \\frac{(A - 2Z)^2}{A} - \\frac{a_5}{A^{1/2}} $$\n",
    "\n",
    "where, in units of millions of electron volts (MeV), the constants are $a_1 =\n",
    "15.67$, $a_2 = 17.23$, $a_3 = 0.75$, $a_4 = 93.2$, and\n",
    "\n",
    "$$ a_5  \\; =  \\;\\; \\left\\{ \\begin{array} {r@{\\quad\\tt if \\quad}l} 0 & A \\;{\\tt is\n",
    "      \\; odd}, \\\\\n",
    "    12.0 & A \\;{\\tt and}\\; Z \\;{\\tt are \\;both \\;even}, \\\\ -12.0 & A \\;{\\tt is\n",
    "     \\;  even \\; and}\\;  Z \\;{\\tt is\n",
    "  \\;  odd.} \\end{array} \\right. $$\n",
    "\n",
    "Write a function that takes as its input the values of $A$ and $Z$, and\n",
    "prints out: \n",
    "* (a) the binding energy $B$ for the corresponding atom and \n",
    "* (b) the binding energy per nucleon, which is $B/A$. \n",
    "\n",
    "Use your program to find\n",
    "the binding energy of an atom with $A = 58$ and $Z = 28$. (Hint: The\n",
    "correct answer is around 490 MeV.) \n",
    "\n",
    "Also run,  $A = 59$ and $Z = 28$ and $A = 58$ and $Z = 27$.\n"
   ]
  },
  {
   "cell_type": "code",
   "execution_count": 25,
   "metadata": {},
   "outputs": [
    {
     "data": {
      "text/plain": [
       "('The binding energy is 490.78 MeV',\n",
       " 'The binding energy per nucleon is 8.46  MeV/nucleon')"
      ]
     },
     "execution_count": 25,
     "metadata": {},
     "output_type": "execute_result"
    }
   ],
   "source": [
    "#Your code here\n",
    "def binding_energy (A,Z):\n",
    "    if type(A) != int and type(A) != float and type(Z) != int and type(Z) != float:\n",
    "        return \"I'm sorry. Neither your value for A or Z is valid! Please enter numerical values\"\n",
    "    elif type(A) != int and type(A) != float:\n",
    "        return \"I'm sorry but your value for A is invalid! Please enter another value\"\n",
    "    elif type(Z) != int and type(Z) != float:\n",
    "        return \"I'm sorry but your value for Z is invalid! Please enter another value\"\n",
    "\n",
    "    elif A % 2 == 0 and Z % 2 == 0:\n",
    "        a_5 = 12.0\n",
    "    elif A % 2 == 0 and Z % 2 != 0:\n",
    "        a_5 = -12.0\n",
    "    else:\n",
    "        a_5 = 0.0\n",
    "\n",
    "    a_1 = 15.67\n",
    "    a_2 = 17.23\n",
    "    a_3 = 0.75\n",
    "    a_4 = 93.2\n",
    "    \n",
    "    B = (a_1 * A) - (a_2 * (A**(2/3))) - (a_3 * ((Z**2)/(A**(1/3)))) - ((a_4 * ((A-(2*Z))**2)/A)) - (a_5/(A**(1/2)))\n",
    "    return \"The binding energy is\" + \" \"+ str(round(B, 2)) + \" \"+\"MeV\", \"The binding energy per nucleon is\" +\" \"+str(round(B/A,2)) +\" \"+\" \"+\"MeV/nucleon\"\n",
    "\n",
    "binding_energy(58, 28)\n"
   ]
  },
  {
   "cell_type": "code",
   "execution_count": 26,
   "metadata": {},
   "outputs": [
    {
     "data": {
      "text/plain": [
       "('The binding energy is 498.14 MeV',\n",
       " 'The binding energy per nucleon is 8.44  MeV/nucleon')"
      ]
     },
     "execution_count": 26,
     "metadata": {},
     "output_type": "execute_result"
    }
   ],
   "source": [
    "binding_energy(59,28)"
   ]
  },
  {
   "cell_type": "code",
   "execution_count": 27,
   "metadata": {},
   "outputs": [
    {
     "data": {
      "text/plain": [
       "('The binding energy is 485.31 MeV',\n",
       " 'The binding energy per nucleon is 8.37  MeV/nucleon')"
      ]
     },
     "execution_count": 27,
     "metadata": {},
     "output_type": "execute_result"
    }
   ],
   "source": [
    "binding_energy(58,27)"
   ]
  },
  {
   "cell_type": "code",
   "execution_count": null,
   "metadata": {},
   "outputs": [],
   "source": []
  }
 ],
 "metadata": {
  "kernelspec": {
   "display_name": "Python 3",
   "language": "python",
   "name": "python3"
  },
  "language_info": {
   "codemirror_mode": {
    "name": "ipython",
    "version": 3
   },
   "file_extension": ".py",
   "mimetype": "text/x-python",
   "name": "python",
   "nbconvert_exporter": "python",
   "pygments_lexer": "ipython3",
   "version": "3.7.11"
  }
 },
 "nbformat": 4,
 "nbformat_minor": 4
}
