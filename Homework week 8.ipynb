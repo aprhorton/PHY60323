{
 "cells": [
  {
   "cell_type": "code",
   "execution_count": 63,
   "id": "d88c815d",
   "metadata": {},
   "outputs": [
    {
     "data": {
      "text/plain": [
       "(-9.999894245993346e-07, -1000010.5755125057)"
      ]
     },
     "execution_count": 63,
     "metadata": {},
     "output_type": "execute_result"
    }
   ],
   "source": [
    "#problem 1, part a\n",
    "import numpy as np\n",
    "from matplotlib import pyplot as plt\n",
    "def quadratic(a,b,c):\n",
    "    x_1 = ((-b) + np.sqrt(b**2 - 4*a*c))/(2*a)\n",
    "    x_2 = ((-b) - np.sqrt(b**2 - 4*a*c))/(2*a)\n",
    "    #part b\n",
    "    x_3 = (2*c)/(-b + np.sqrt(b**2 - 4*a*c))\n",
    "    x_4 = (2*c)/(-b - np.sqrt(b**2 - 4*a*c))\n",
    "    return (x_1, x_2), (x_3, x_4)\n",
    "\n",
    "#The two formulas do not give the same solutions but they are very close. Solutions x_1 and x_3\n",
    "#give more precise solutions than x_2 and x_4. The reason x_1 and x_3 are more precise is because\n",
    "#of the subtraction truncation that occurs. When  b^2 is approximately equal to 4*a*c, you need to use\n",
    "#solution x_1 and x_3 because they add -b to the sqrt (not subtract it!). \n",
    "\n",
    "    \n",
    "def complete_quadratic (a,b,c):\n",
    "\n",
    "    if b**2-4*a*c < 0: #complex solutions\n",
    "        x_1 = ((-b) + np.sqrt((b**2-4*a*c)+0j))/(2*a)\n",
    "        x_2 = ((-b) - np.sqrt((b**2-4*a*c)+0j))/(2*a)\n",
    "        return \"No real solutions!\", x_1,x_2\n",
    "    elif b**2-4*a*c == 0:\n",
    "        x_1 = ((-b) + np.sqrt(b**2 - 4*a*c))/(2*a) #could also use x_2 in quadratic function here because with a sqrt = 0\n",
    "        #the subtraction won't matter. In fact, you could use any of the four methods as they all return the same root\n",
    "        return x_1\n",
    "\n",
    "    else:\n",
    "        if b  <0:\n",
    "            x_1 = ((-b) - np.sqrt(b**2 - 4*a*c))/(2*a)\n",
    "            x_2 = (2*c)/(-b - np.sqrt(b**2 - 4*a*c))\n",
    "        else: \n",
    "            x_1 = ((-b) + np.sqrt(b**2 - 4*a*c))/(2*a)\n",
    "            x_2 = (2*c)/(-b + np.sqrt(b**2 - 4*a*c)) #method 3 from quadratic function gets rid of subtracting truncation\n",
    "        return x_1,x_2\n",
    "\n",
    "complete_quadratic(0.001,1000,0.001)"
   ]
  },
  {
   "cell_type": "code",
   "execution_count": 66,
   "id": "cf7a1a8f",
   "metadata": {},
   "outputs": [
    {
     "data": {
      "text/plain": [
       "((99.91993589739474, 0.08006410260526309),\n",
       " (0.08006410260525985, 99.9199358973907))"
      ]
     },
     "execution_count": 66,
     "metadata": {},
     "output_type": "execute_result"
    }
   ],
   "source": [
    "quadratic (1,-100,8)"
   ]
  },
  {
   "cell_type": "code",
   "execution_count": 2,
   "id": "189a4856",
   "metadata": {},
   "outputs": [
    {
     "name": "stdout",
     "output_type": "stream",
     "text": [
      "Simpson's Rule 10: 4.400426666666667\n",
      "Simpson's Rule 100: 4.400000042666667\n",
      "Simpson's Rule 1000: 4.400000000004267\n"
     ]
    }
   ],
   "source": [
    "#problem 2\n",
    "def f(x):\n",
    "    return x**4-2*x+1\n",
    "\n",
    "def simpson_rule(N,a,b):\n",
    "    h = (b-a)/N\n",
    "    odd = 0\n",
    "    even = 0\n",
    "    for k in range (1, N, 2):\n",
    "        odd += f(a+k*h)\n",
    "    for k in range (2,N,2):\n",
    "        even += f(a+k*h)\n",
    "    integral = 1/3*h*(f(a) + f(b) + 4*odd + 2*even)\n",
    "    return integral\n",
    "print(\"Simpson's Rule 10:\" + \"\",simpson_rule(10, 0, 2))\n",
    "print(\"Simpson's Rule 100:\" + \"\",simpson_rule(100, 0, 2))\n",
    "print(\"Simpson's Rule 1000:\" + \"\",simpson_rule(1000, 0, 2))"
   ]
  },
  {
   "cell_type": "code",
   "execution_count": 27,
   "id": "a7af3ddc",
   "metadata": {},
   "outputs": [
    {
     "data": {
      "image/png": "[encoded data removed]",
      "text/plain": [
       "<Figure size 640x480 with 1 Axes>"
      ]
     },
     "metadata": {},
     "output_type": "display_data"
    }
   ],
   "source": [
    "#problem 3\n",
    "#using the trapezoidal rule function for the integral in this problem\n",
    "def f(x):\n",
    "    return (x**4 * np.exp(x))/((np.exp(x)-1)**2)\n",
    "\n",
    "\n",
    "\n",
    "def cv(T): #temperature needs to be in kelvin\n",
    "    debye = 428 #units of K\n",
    "    N = 1000\n",
    "    a = 0.0\n",
    "    b = debye/T\n",
    "    h = (b-a)/N\n",
    "    number_density = 6.022*10**28 #units on m^-3\n",
    "    k_b = 1.38064852*10**-23 #units of m^2 kg / s^2 K\n",
    "    volume = 0.001 #units of m^3\n",
    "\n",
    "    s = 0 + 0.5*f(b)\n",
    "    for k in range(1,N):\n",
    "        s +=f(k*h)\n",
    "    integral = h*s \n",
    "    heat = (9*volume*number_density*k_b)*(T/debye)**3*integral\n",
    "    return heat\n",
    "\n",
    "\n",
    "fig = plt.figure()\n",
    "ax = fig.add_subplot(111)\n",
    "\n",
    "for temp in range (5,505,5):\n",
    "    heat_capacity = cv(temp)\n",
    "    ax.scatter(temp, heat_capacity, s=5, c='r', alpha=0.3)\n",
    "\n",
    "ax.set_xlabel(\"$Temperature$ $(K)$\", size=15)\n",
    "ax.set_ylabel(\"$Heat$ $Capacity$ $( J/K)$\", size=15)\n",
    "\n",
    "plt.show()\n"
   ]
  },
  {
   "cell_type": "code",
   "execution_count": null,
   "id": "2342b247",
   "metadata": {},
   "outputs": [],
   "source": []
  },
  {
   "cell_type": "code",
   "execution_count": null,
   "id": "50ce6c26",
   "metadata": {},
   "outputs": [],
   "source": []
  },
  {
   "cell_type": "code",
   "execution_count": null,
   "id": "c167551c",
   "metadata": {},
   "outputs": [],
   "source": []
  }
 ],
 "metadata": {
  "kernelspec": {
   "display_name": "Python 3",
   "language": "python",
   "name": "python3"
  },
  "language_info": {
   "codemirror_mode": {
    "name": "ipython",
    "version": 3
   },
   "file_extension": ".py",
   "mimetype": "text/x-python",
   "name": "python",
   "nbconvert_exporter": "python",
   "pygments_lexer": "ipython3",
   "version": "3.7.11"
  }
 },
 "nbformat": 4,
 "nbformat_minor": 5
}
