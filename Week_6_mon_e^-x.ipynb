{
 "cells": [
  {
   "cell_type": "code",
   "execution_count": 3,
   "id": "977be695",
   "metadata": {},
   "outputs": [],
   "source": [
    "import numpy as np\n",
    "def e_minusx_simple(x):\n",
    "    emxsmp = 0.0\n",
    "    for n in range(0,10000):\n",
    "        emxsmp += (-1)**n * ((x**n)/np.math.factorial(n))\n",
    "    return emxsmp\n"
   ]
  },
  {
   "cell_type": "code",
   "execution_count": 4,
   "id": "6eca69ae",
   "metadata": {},
   "outputs": [],
   "source": [
    "def find_s_n(x,n_exponent):\n",
    "    if n_exponent < 0:\n",
    "        s_n_value = (-1)**(n_exponent+1) * (x**(n_exponent+1)/np.math.factorial(n_exponent+1)) #the plus one to keep the factorial\n",
    "        #from being negative. This is for when n = 0\n",
    "    else:\n",
    "        s_n_value = (-1)**n_exponent * (x**n_exponent/np.math.factorial(n_exponent))\n",
    "    return s_n_value\n"
   ]
  },
  {
   "cell_type": "code",
   "execution_count": 8,
   "id": "15247b0e",
   "metadata": {},
   "outputs": [],
   "source": [
    "def e_minusx_recurse(x):\n",
    "\n",
    "    emxrec = 0.0\n",
    "    for n in range(0,10000):\n",
    "        if n == 0:\n",
    "            s_n = find_s_n(x,n)\n",
    "            emxrec = s_n\n",
    "        else:\n",
    "            s_n = find_s_n(x,n-1)\n",
    "            emxrec += -s_n * (x/n)\n",
    "\n",
    "    return emxrec"
   ]
  },
  {
   "cell_type": "code",
   "execution_count": 9,
   "id": "98a51dc8",
   "metadata": {},
   "outputs": [],
   "source": [
    "def e_minusx_inverse(x):\n",
    "\n",
    "    emx = 0.0\n",
    "    for n in range(0,10000):\n",
    "        emx += (x**n/np.math.factorial(n))\n",
    "    emxinv = 1/emx\n",
    "    return emxinv"
   ]
  },
  {
   "cell_type": "code",
   "execution_count": 10,
   "id": "a937a87b",
   "metadata": {},
   "outputs": [
    {
     "name": "stdout",
     "output_type": "stream",
     "text": [
      "The order in which the values appear is the x value, the simple, recursion, inverse, and numpy algorithms.\n",
      "10 4.5399929433607724e-05 4.539993001630089e-05 4.539992976248486e-05 4.5399929762484854e-05\n",
      "20 5.47810291652921e-10 1.680547392408882e-08 2.0611536224385583e-09 2.061153622438558e-09\n",
      "30 -8.553016433669241e-05 -0.00023799734579258767 9.357622968840171e-14 9.357622968840175e-14\n",
      "40 0.1470264494805502 -0.040479763859833776 4.24835425529159e-18 4.248354255291589e-18\n",
      "50 -7015.776232597128 3169.8534113658925 1.9287498479639164e-22 1.9287498479639178e-22\n",
      "60 -1223051118.0619795 2605738458.422503 8.75651076269652e-27 8.75651076269652e-27\n",
      "70 15141759713408.848 -19913782225536.49 3.975449735908648e-31 3.975449735908647e-31\n",
      "80 6.772465846238849e+17 -7.547882381938252e+17 1.8048513878454156e-35 1.8048513878454153e-35\n",
      "90 -7.884988118863822e+21 1.2974764283974941e+22 8.194012623990511e-40 8.194012623990515e-40\n",
      "100 -2.8756582514726483e+26 7.442673519646066e+26 3.7200759760208356e-44 3.720075976020836e-44\n"
     ]
    }
   ],
   "source": [
    "print(\"The order in which the values appear is the x value, the simple, recursion, inverse, and numpy algorithms.\")\n",
    "for i in range (10,110,10):\n",
    "    print(i,e_minusx_simple(i),e_minusx_recurse(i),e_minusx_inverse(i), np.exp(-i))"
   ]
  },
  {
   "cell_type": "code",
   "execution_count": 11,
   "id": "5d79c8cb",
   "metadata": {},
   "outputs": [],
   "source": [
    "#I stopped the iterations at 10,000 because it was taking was too long (well over 45 minutes) for 100,000. My computer could\n",
    "#not handle the calculations. The four methods agree up to 10 pretty well. I believe the divergence from the numpy \n",
    "#algorthms for the simple and recursion methods is because my infinity value is not that high. I think this because I \n",
    "# was testing those methods for about 10 iterations and an x value of 10 and the resulting value was not that close to the\n",
    "#numpy algorithm. \n"
   ]
  },
  {
   "cell_type": "code",
   "execution_count": null,
   "id": "04bfd41d",
   "metadata": {},
   "outputs": [],
   "source": []
  },
  {
   "cell_type": "code",
   "execution_count": null,
   "id": "a9b14b79",
   "metadata": {},
   "outputs": [],
   "source": []
  }
 ],
 "metadata": {
  "kernelspec": {
   "display_name": "Python 3",
   "language": "python",
   "name": "python3"
  },
  "language_info": {
   "codemirror_mode": {
    "name": "ipython",
    "version": 3
   },
   "file_extension": ".py",
   "mimetype": "text/x-python",
   "name": "python",
   "nbconvert_exporter": "python",
   "pygments_lexer": "ipython3",
   "version": "3.7.11"
  }
 },
 "nbformat": 4,
 "nbformat_minor": 5
}
